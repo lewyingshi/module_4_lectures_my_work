{
 "cells": [
  {
   "cell_type": "markdown",
   "metadata": {},
   "source": [
    "# Lecture 4.4 - Basics of cleaning messy text files \n",
    "## Part 1 - Getting the know the file and removing unwanted lines\n",
    "\n",
    "In this lecture, we will go over a number of cases of messy data, and how to use Python to fix these problems.  This includes\n",
    "\n",
    "1. Use VSCode to inspect the file and identify problems.\n",
    "1. Removing unwanted lines."
   ]
  },
  {
   "cell_type": "markdown",
   "metadata": {},
   "source": [
    "## Example - 9/11 Deaths \n",
    "\n",
    "I have included a file named `911_Deaths.csv`.  Download this file from D2L and open it in VScode.  Be sure to turn on **View > Render Whitespace**, which I find useful when working with messy data."
   ]
  },
  {
   "cell_type": "markdown",
   "metadata": {},
   "source": [
    "Page number (human readable),\n",
    "Different lengths every third line,\n",
    "Commas in names that could be split in csv file"
   ]
  },
  {
   "cell_type": "markdown",
   "metadata": {},
   "source": [
    "## Reading in the lines of the file\n",
    "\n",
    "I have included a file named `911_Deaths.csv`.  Open this file and split the body into a list called `lines`."
   ]
  },
  {
   "cell_type": "code",
   "execution_count": 1,
   "metadata": {},
   "outputs": [],
   "source": [
    "# Your code here\n",
    "with open('911_Deaths.csv') as f:\n",
    "    read_lines = f.readlines()"
   ]
  },
  {
   "cell_type": "code",
   "execution_count": 2,
   "metadata": {},
   "outputs": [
    {
     "data": {
      "text/plain": [
       "['Gordon M. Aamoth, Jr.',\n",
       " '32',\n",
       " \"Sandler O'Neill + Partners, World Trade Center.\",\n",
       " 'Edelmiro Abad',\n",
       " '54',\n",
       " 'Brooklyn, N.Y., Fiduciary Trust Company International, World Trade Center.',\n",
       " 'Marie Rose Abad',\n",
       " '49',\n",
       " 'Keefe, Bruyette&Woods, Inc., World Trade Center.',\n",
       " 'Andrew Anthony Abate',\n",
       " '37',\n",
       " 'Melville, N.Y., Cantor Fitzgerald, World Trade Center.',\n",
       " 'Vincent Paul Abate',\n",
       " '40',\n",
       " 'Brooklyn, N.Y., Cantor Fitzgerald, World Trade Center.',\n",
       " 'Laurence Christopher Abel',\n",
       " '37',\n",
       " 'New York City, Cantor Fitzgerald, World Trade Center.',\n",
       " 'Alona Abraham',\n",
       " '30',\n",
       " 'Ashdod, Israel, Passenger, United 175, World Trade Center.',\n",
       " 'William F. Abrahamson',\n",
       " '55',\n",
       " 'Westchester County, N.Y., Marsh&McLennan Companies, Inc., World Trade Center.',\n",
       " 'Richard Anthony Aceto',\n",
       " '42',\n",
       " 'Marsh&McLennan Companies, Inc., World Trade Center.',\n",
       " 'Heinrich Bernhard Ackermann',\n",
       " '38',\n",
       " 'Aon Corporation, World Trade Center.',\n",
       " 'Paul Acquaviva',\n",
       " '29',\n",
       " 'Glen Rock, N.J., Cantor Fitzgerald, World Trade Center.',\n",
       " 'Christian Adams',\n",
       " '37',\n",
       " 'Passenger, United 93, Shanksville, Pa.',\n",
       " 'Donald LaRoy Adams',\n",
       " '28',\n",
       " 'Cantor Fitzgerald, World Trade Center.',\n",
       " 'Patrick Adams',\n",
       " '61',\n",
       " 'Fuji Bank, Ltd. security, World Trade Center.',\n",
       " 'Shannon Lewis Adams',\n",
       " '25',\n",
       " 'Cantor Fitzgerald, World Trade Center.',\n",
       " 'Stephen George Adams',\n",
       " '51',\n",
       " 'New York City, Windows on the World, World Trade Center.',\n",
       " 'Ignatius Udo Adanga',\n",
       " '62',\n",
       " 'Bronx, N.Y., New York Metropolitan Transportation Council, World Trade Center.',\n",
       " 'Christy A. Addamo',\n",
       " '28',\n",
       " 'New Hyde Park, N.Y., Marsh&McLennan Companies, Inc., World Trade Center.',\n",
       " 'Terence Edward Adderley, Jr.',\n",
       " '22',\n",
       " 'New York City, Fred Alger Management, Inc., World Trade Center.',\n",
       " 'Sophia B. Addo',\n",
       " '36',\n",
       " 'Bronx, N.Y., Windows on the World, World Trade Center.',\n",
       " 'Lee Adler',\n",
       " '48',\n",
       " 'Cantor Fitzgerald, World Trade Center.',\n",
       " 'Daniel Thomas Afflitto',\n",
       " '32',\n",
       " 'Manalapan, N.J., Cantor Fitzgerald, World Trade Center.',\n",
       " 'Emmanuel Akwasi Afuakwah',\n",
       " '37',\n",
       " 'Windows on the World, World Trade Center.',\n",
       " 'Alok Agarwal',\n",
       " '36',\n",
       " 'Cantor Fitzgerald, World Trade Center.',\n",
       " 'Mukul Kumar Agarwala',\n",
       " '37',\n",
       " 'Fiduciary Trust Company International, World Trade Center.',\n",
       " 'Joseph Agnello',\n",
       " '35',\n",
       " 'Belle Harbor, N.Y., New York City Fire Department, World Trade Center.',\n",
       " 'David Scott Agnes',\n",
       " '46',\n",
       " 'Port Washington, N.Y., Cantor Fitzgerald, World Trade Center.',\n",
       " 'Joao Alberto da Fonseca Aguiar, Jr.',\n",
       " '30',\n",
       " 'Hoboken, N.J., Keefe, Bruyette&Woods, Inc., World Trade Center.',\n",
       " 'Brian G. Ahearn',\n",
       " '43',\n",
       " 'Huntington, N.Y., New York City Fire Department, World Trade Center.',\n",
       " 'Jeremiah Joseph Ahern',\n",
       " '74',\n",
       " 'New Jersey, New York State Department of Taxation and Finance, World Trade Center.',\n",
       " 'Joanne Marie Ahladiotis',\n",
       " '27',\n",
       " 'Forest Hills, N.Y., Cantor Fitzgerald, World Trade Center.',\n",
       " 'Shabbir Ahmed',\n",
       " '47',\n",
       " 'Brooklyn, N.Y., Windows on the World, World Trade Center.',\n",
       " 'Terrance Andre Aiken',\n",
       " '30',\n",
       " 'Marsh&McLennan consultant, World Trade Center.',\n",
       " '',\n",
       " '',\n",
       " '1 of 91']"
      ]
     },
     "execution_count": 2,
     "metadata": {},
     "output_type": "execute_result"
    }
   ],
   "source": [
    "lines = [line.strip() for line in read_lines]\n",
    "lines[:102]"
   ]
  },
  {
   "cell_type": "markdown",
   "metadata": {},
   "source": [
    "## Step 1: Remove any extraneous lines"
   ]
  },
  {
   "cell_type": "code",
   "execution_count": 3,
   "metadata": {},
   "outputs": [
    {
     "data": {
      "text/plain": [
       "['Terrance Andre Aiken',\n",
       " '30',\n",
       " 'Marsh&McLennan consultant, World Trade Center.',\n",
       " '',\n",
       " '',\n",
       " '1 of 91',\n",
       " '',\n",
       " '',\n",
       " 'Godwin O. Ajala',\n",
       " '33',\n",
       " 'Summit Security Services, Inc., World Trade Center, died 9/15/01.']"
      ]
     },
     "execution_count": 3,
     "metadata": {},
     "output_type": "execute_result"
    }
   ],
   "source": [
    "example_w_extra = lines[96:107] # example lines to test with\n",
    "example_w_extra"
   ]
  },
  {
   "cell_type": "markdown",
   "metadata": {},
   "source": [
    "## Methods for removing extra lines.\n",
    "\n",
    "* `strip` and check for a length of 0\n",
    "* Check if some substring is `in` the line.\n",
    "* Create a regular expression to match the line type"
   ]
  },
  {
   "cell_type": "markdown",
   "metadata": {},
   "source": [
    "<h2> <font color=\"red\"> Exercise 4.4.2 </font> </h2>\n",
    "\n",
    "Rewrite a predicate function (i.e. Boolean lambda) called `is_blank` that returns `True` for blank lines and `False` otherwise."
   ]
  },
  {
   "cell_type": "code",
   "execution_count": 4,
   "metadata": {},
   "outputs": [
    {
     "data": {
      "text/plain": [
       "''"
      ]
     },
     "execution_count": 4,
     "metadata": {},
     "output_type": "execute_result"
    }
   ],
   "source": [
    "example_blank_line = lines[99]\n",
    "example_blank_line"
   ]
  },
  {
   "cell_type": "code",
   "execution_count": 5,
   "metadata": {},
   "outputs": [
    {
     "data": {
      "text/plain": [
       "[('Terrance Andre Aiken', False),\n",
       " ('30', False),\n",
       " ('Marsh&McLennan consultant, World Trade Center.', False),\n",
       " ('', True),\n",
       " ('', True),\n",
       " ('1 of 91', False),\n",
       " ('', True),\n",
       " ('', True),\n",
       " ('Godwin O. Ajala', False),\n",
       " ('33', False),\n",
       " ('Summit Security Services, Inc., World Trade Center, died 9/15/01.', False)]"
      ]
     },
     "execution_count": 5,
     "metadata": {},
     "output_type": "execute_result"
    }
   ],
   "source": [
    "# Your code here\n",
    "is_blank = lambda l: len(l.strip()) == 0\n",
    "[(l, is_blank(l)) for l in example_w_extra]"
   ]
  },
  {
   "cell_type": "markdown",
   "metadata": {},
   "source": [
    "<h2> <font color=\"red\"> Exercise 4.4.3 </font> </h2>\n",
    "\n",
    "Rewrite a predicate function called `is_page_num_line` that returns `True` for the page number lines and `False` otherwise."
   ]
  },
  {
   "cell_type": "code",
   "execution_count": 6,
   "metadata": {},
   "outputs": [
    {
     "data": {
      "text/plain": [
       "'1 of 91'"
      ]
     },
     "execution_count": 6,
     "metadata": {},
     "output_type": "execute_result"
    }
   ],
   "source": [
    "example_page_num_line = lines[101]\n",
    "example_page_num_line"
   ]
  },
  {
   "cell_type": "code",
   "execution_count": 7,
   "metadata": {},
   "outputs": [],
   "source": [
    "# Your code here\n",
    "is_page_num_line = lambda l: ' of ' in l"
   ]
  },
  {
   "cell_type": "code",
   "execution_count": 8,
   "metadata": {},
   "outputs": [
    {
     "data": {
      "text/plain": [
       "[('Terrance Andre Aiken', False),\n",
       " ('30', False),\n",
       " ('Marsh&McLennan consultant, World Trade Center.', False),\n",
       " ('', False),\n",
       " ('', False),\n",
       " ('1 of 91', True),\n",
       " ('', False),\n",
       " ('', False),\n",
       " ('Godwin O. Ajala', False),\n",
       " ('33', False),\n",
       " ('Summit Security Services, Inc., World Trade Center, died 9/15/01.', False)]"
      ]
     },
     "execution_count": 8,
     "metadata": {},
     "output_type": "execute_result"
    }
   ],
   "source": [
    "[(l, is_page_num_line(l)) for l in example_w_extra]"
   ]
  },
  {
   "cell_type": "markdown",
   "metadata": {},
   "source": [
    "<h2> <font color=\"red\"> Exercise 4.4.4 </font> </h2>\n",
    "\n",
    "Identify some situation were your approach might fail."
   ]
  },
  {
   "cell_type": "markdown",
   "metadata": {},
   "source": [
    "> Your answer here"
   ]
  },
  {
   "cell_type": "markdown",
   "metadata": {},
   "source": [
    "## Be as specific as possible\n",
    "\n",
    "When removing lines, be very specific so you don't lose data!"
   ]
  },
  {
   "cell_type": "markdown",
   "metadata": {},
   "source": [
    "<h2> <font color=\"red\"> Exercise 4.4.5 </font> </h2>\n",
    "\n",
    "Complete the following steps."
   ]
  },
  {
   "cell_type": "markdown",
   "metadata": {},
   "source": [
    "#### Describe the pattern in words"
   ]
  },
  {
   "cell_type": "code",
   "execution_count": 9,
   "metadata": {},
   "outputs": [
    {
     "data": {
      "text/plain": [
       "'1 of 91'"
      ]
     },
     "execution_count": 9,
     "metadata": {},
     "output_type": "execute_result"
    }
   ],
   "source": [
    "example_page_num_line = lines[101]\n",
    "example_page_num_line"
   ]
  },
  {
   "cell_type": "markdown",
   "metadata": {},
   "source": [
    "integer - \" of \" - integer"
   ]
  },
  {
   "cell_type": "markdown",
   "metadata": {},
   "source": [
    "#### Write a regular expression to `match` the problem"
   ]
  },
  {
   "cell_type": "code",
   "execution_count": 12,
   "metadata": {},
   "outputs": [
    {
     "data": {
      "text/plain": [
       "'1 of 91'"
      ]
     },
     "execution_count": 12,
     "metadata": {},
     "output_type": "execute_result"
    }
   ],
   "source": [
    "# Your code here\n",
    "import re\n",
    "example_w_extra[5]"
   ]
  },
  {
   "cell_type": "code",
   "execution_count": 13,
   "metadata": {},
   "outputs": [
    {
     "data": {
      "text/plain": [
       "[('Terrance Andre Aiken', False),\n",
       " ('30', False),\n",
       " ('Marsh&McLennan consultant, World Trade Center.', False),\n",
       " ('', False),\n",
       " ('', False),\n",
       " ('1 of 91', True),\n",
       " ('', False),\n",
       " ('', False),\n",
       " ('Godwin O. Ajala', False),\n",
       " ('33', False),\n",
       " ('Summit Security Services, Inc., World Trade Center, died 9/15/01.', False)]"
      ]
     },
     "execution_count": 13,
     "metadata": {},
     "output_type": "execute_result"
    }
   ],
   "source": [
    "r = re.compile(r'^\\d+ of \\d+$')\n",
    "is_page_num_line = lambda l: bool(r.match(l))\n",
    "[(l, is_page_num_line(l)) for l in example_w_extra]"
   ]
  },
  {
   "cell_type": "markdown",
   "metadata": {},
   "source": [
    "#### Why is `match` better than `search` for this task?"
   ]
  },
  {
   "cell_type": "markdown",
   "metadata": {},
   "source": [
    "match is more specific"
   ]
  },
  {
   "cell_type": "markdown",
   "metadata": {},
   "source": [
    "## Combining the two predicate functions"
   ]
  },
  {
   "cell_type": "code",
   "execution_count": 14,
   "metadata": {},
   "outputs": [],
   "source": [
    "needs_removal = lambda l: is_blank(l) or is_page_num_line(l)"
   ]
  },
  {
   "cell_type": "code",
   "execution_count": 15,
   "metadata": {},
   "outputs": [
    {
     "data": {
      "text/plain": [
       "[('Terrance Andre Aiken', False),\n",
       " ('30', False),\n",
       " ('Marsh&McLennan consultant, World Trade Center.', False),\n",
       " ('', True),\n",
       " ('', True),\n",
       " ('1 of 91', True),\n",
       " ('', True),\n",
       " ('', True),\n",
       " ('Godwin O. Ajala', False),\n",
       " ('33', False),\n",
       " ('Summit Security Services, Inc., World Trade Center, died 9/15/01.', False)]"
      ]
     },
     "execution_count": 15,
     "metadata": {},
     "output_type": "execute_result"
    }
   ],
   "source": [
    "[(l, needs_removal(l)) for l in example_w_extra ]"
   ]
  },
  {
   "cell_type": "markdown",
   "metadata": {},
   "source": [
    "#### Removing the extraneous lines"
   ]
  },
  {
   "cell_type": "code",
   "execution_count": 16,
   "metadata": {
    "scrolled": true
   },
   "outputs": [
    {
     "data": {
      "text/plain": [
       "['Gordon M. Aamoth, Jr.',\n",
       " '32',\n",
       " \"Sandler O'Neill + Partners, World Trade Center.\",\n",
       " 'Edelmiro Abad',\n",
       " '54',\n",
       " 'Brooklyn, N.Y., Fiduciary Trust Company International, World Trade Center.',\n",
       " 'Marie Rose Abad',\n",
       " '49',\n",
       " 'Keefe, Bruyette&Woods, Inc., World Trade Center.',\n",
       " 'Andrew Anthony Abate',\n",
       " '37',\n",
       " 'Melville, N.Y., Cantor Fitzgerald, World Trade Center.',\n",
       " 'Vincent Paul Abate',\n",
       " '40',\n",
       " 'Brooklyn, N.Y., Cantor Fitzgerald, World Trade Center.',\n",
       " 'Laurence Christopher Abel',\n",
       " '37',\n",
       " 'New York City, Cantor Fitzgerald, World Trade Center.',\n",
       " 'Alona Abraham',\n",
       " '30',\n",
       " 'Ashdod, Israel, Passenger, United 175, World Trade Center.',\n",
       " 'William F. Abrahamson',\n",
       " '55',\n",
       " 'Westchester County, N.Y., Marsh&McLennan Companies, Inc., World Trade Center.',\n",
       " 'Richard Anthony Aceto',\n",
       " '42',\n",
       " 'Marsh&McLennan Companies, Inc., World Trade Center.',\n",
       " 'Heinrich Bernhard Ackermann',\n",
       " '38',\n",
       " 'Aon Corporation, World Trade Center.',\n",
       " 'Paul Acquaviva',\n",
       " '29',\n",
       " 'Glen Rock, N.J., Cantor Fitzgerald, World Trade Center.',\n",
       " 'Christian Adams',\n",
       " '37',\n",
       " 'Passenger, United 93, Shanksville, Pa.',\n",
       " 'Donald LaRoy Adams',\n",
       " '28',\n",
       " 'Cantor Fitzgerald, World Trade Center.',\n",
       " 'Patrick Adams',\n",
       " '61',\n",
       " 'Fuji Bank, Ltd. security, World Trade Center.',\n",
       " 'Shannon Lewis Adams',\n",
       " '25',\n",
       " 'Cantor Fitzgerald, World Trade Center.',\n",
       " 'Stephen George Adams',\n",
       " '51',\n",
       " 'New York City, Windows on the World, World Trade Center.',\n",
       " 'Ignatius Udo Adanga',\n",
       " '62',\n",
       " 'Bronx, N.Y., New York Metropolitan Transportation Council, World Trade Center.',\n",
       " 'Christy A. Addamo',\n",
       " '28',\n",
       " 'New Hyde Park, N.Y., Marsh&McLennan Companies, Inc., World Trade Center.',\n",
       " 'Terence Edward Adderley, Jr.',\n",
       " '22',\n",
       " 'New York City, Fred Alger Management, Inc., World Trade Center.',\n",
       " 'Sophia B. Addo',\n",
       " '36',\n",
       " 'Bronx, N.Y., Windows on the World, World Trade Center.',\n",
       " 'Lee Adler',\n",
       " '48',\n",
       " 'Cantor Fitzgerald, World Trade Center.',\n",
       " 'Daniel Thomas Afflitto',\n",
       " '32',\n",
       " 'Manalapan, N.J., Cantor Fitzgerald, World Trade Center.',\n",
       " 'Emmanuel Akwasi Afuakwah',\n",
       " '37',\n",
       " 'Windows on the World, World Trade Center.',\n",
       " 'Alok Agarwal',\n",
       " '36',\n",
       " 'Cantor Fitzgerald, World Trade Center.',\n",
       " 'Mukul Kumar Agarwala',\n",
       " '37',\n",
       " 'Fiduciary Trust Company International, World Trade Center.',\n",
       " 'Joseph Agnello',\n",
       " '35',\n",
       " 'Belle Harbor, N.Y., New York City Fire Department, World Trade Center.',\n",
       " 'David Scott Agnes',\n",
       " '46',\n",
       " 'Port Washington, N.Y., Cantor Fitzgerald, World Trade Center.',\n",
       " 'Joao Alberto da Fonseca Aguiar, Jr.',\n",
       " '30',\n",
       " 'Hoboken, N.J., Keefe, Bruyette&Woods, Inc., World Trade Center.',\n",
       " 'Brian G. Ahearn',\n",
       " '43',\n",
       " 'Huntington, N.Y., New York City Fire Department, World Trade Center.',\n",
       " 'Jeremiah Joseph Ahern',\n",
       " '74',\n",
       " 'New Jersey, New York State Department of Taxation and Finance, World Trade Center.',\n",
       " 'Joanne Marie Ahladiotis',\n",
       " '27',\n",
       " 'Forest Hills, N.Y., Cantor Fitzgerald, World Trade Center.',\n",
       " 'Shabbir Ahmed',\n",
       " '47',\n",
       " 'Brooklyn, N.Y., Windows on the World, World Trade Center.',\n",
       " 'Terrance Andre Aiken',\n",
       " '30',\n",
       " 'Marsh&McLennan consultant, World Trade Center.',\n",
       " 'Godwin O. Ajala']"
      ]
     },
     "execution_count": 16,
     "metadata": {},
     "output_type": "execute_result"
    }
   ],
   "source": [
    "culled_lines = [l for l in lines if not needs_removal(l)]\n",
    "culled_lines[:100]"
   ]
  },
  {
   "cell_type": "code",
   "execution_count": 16,
   "metadata": {
    "scrolled": true
   },
   "outputs": [
    {
     "data": {
      "text/plain": [
       "['Gordon M. Aamoth, Jr.',\n",
       " '32',\n",
       " \"Sandler O'Neill + Partners, World Trade Center.\",\n",
       " 'Edelmiro Abad',\n",
       " '54',\n",
       " 'Brooklyn, N.Y., Fiduciary Trust Company International, World Trade Center.',\n",
       " 'Marie Rose Abad',\n",
       " '49',\n",
       " 'Keefe, Bruyette&Woods, Inc., World Trade Center.',\n",
       " 'Andrew Anthony Abate',\n",
       " '37',\n",
       " 'Melville, N.Y., Cantor Fitzgerald, World Trade Center.',\n",
       " 'Vincent Paul Abate',\n",
       " '40',\n",
       " 'Brooklyn, N.Y., Cantor Fitzgerald, World Trade Center.',\n",
       " 'Laurence Christopher Abel',\n",
       " '37',\n",
       " 'New York City, Cantor Fitzgerald, World Trade Center.',\n",
       " 'Alona Abraham',\n",
       " '30',\n",
       " 'Ashdod, Israel, Passenger, United 175, World Trade Center.',\n",
       " 'William F. Abrahamson',\n",
       " '55',\n",
       " 'Westchester County, N.Y., Marsh&McLennan Companies, Inc., World Trade Center.',\n",
       " 'Richard Anthony Aceto',\n",
       " '42',\n",
       " 'Marsh&McLennan Companies, Inc., World Trade Center.',\n",
       " 'Heinrich Bernhard Ackermann',\n",
       " '38',\n",
       " 'Aon Corporation, World Trade Center.',\n",
       " 'Paul Acquaviva',\n",
       " '29',\n",
       " 'Glen Rock, N.J., Cantor Fitzgerald, World Trade Center.',\n",
       " 'Christian Adams',\n",
       " '37',\n",
       " 'Passenger, United 93, Shanksville, Pa.',\n",
       " 'Donald LaRoy Adams',\n",
       " '28',\n",
       " 'Cantor Fitzgerald, World Trade Center.',\n",
       " 'Patrick Adams',\n",
       " '61',\n",
       " 'Fuji Bank, Ltd. security, World Trade Center.',\n",
       " 'Shannon Lewis Adams',\n",
       " '25',\n",
       " 'Cantor Fitzgerald, World Trade Center.',\n",
       " 'Stephen George Adams',\n",
       " '51',\n",
       " 'New York City, Windows on the World, World Trade Center.',\n",
       " 'Ignatius Udo Adanga',\n",
       " '62',\n",
       " 'Bronx, N.Y., New York Metropolitan Transportation Council, World Trade Center.',\n",
       " 'Christy A. Addamo',\n",
       " '28',\n",
       " 'New Hyde Park, N.Y., Marsh&McLennan Companies, Inc., World Trade Center.',\n",
       " 'Terence Edward Adderley, Jr.',\n",
       " '22',\n",
       " 'New York City, Fred Alger Management, Inc., World Trade Center.',\n",
       " 'Sophia B. Addo',\n",
       " '36',\n",
       " 'Bronx, N.Y., Windows on the World, World Trade Center.',\n",
       " 'Lee Adler',\n",
       " '48',\n",
       " 'Cantor Fitzgerald, World Trade Center.',\n",
       " 'Daniel Thomas Afflitto',\n",
       " '32',\n",
       " 'Manalapan, N.J., Cantor Fitzgerald, World Trade Center.',\n",
       " 'Emmanuel Akwasi Afuakwah',\n",
       " '37',\n",
       " 'Windows on the World, World Trade Center.',\n",
       " 'Alok Agarwal',\n",
       " '36',\n",
       " 'Cantor Fitzgerald, World Trade Center.',\n",
       " 'Mukul Kumar Agarwala',\n",
       " '37',\n",
       " 'Fiduciary Trust Company International, World Trade Center.',\n",
       " 'Joseph Agnello',\n",
       " '35',\n",
       " 'Belle Harbor, N.Y., New York City Fire Department, World Trade Center.',\n",
       " 'David Scott Agnes',\n",
       " '46',\n",
       " 'Port Washington, N.Y., Cantor Fitzgerald, World Trade Center.',\n",
       " 'Joao Alberto da Fonseca Aguiar, Jr.',\n",
       " '30',\n",
       " 'Hoboken, N.J., Keefe, Bruyette&Woods, Inc., World Trade Center.',\n",
       " 'Brian G. Ahearn',\n",
       " '43',\n",
       " 'Huntington, N.Y., New York City Fire Department, World Trade Center.',\n",
       " 'Jeremiah Joseph Ahern',\n",
       " '74',\n",
       " 'New Jersey, New York State Department of Taxation and Finance, World Trade Center.',\n",
       " 'Joanne Marie Ahladiotis',\n",
       " '27',\n",
       " 'Forest Hills, N.Y., Cantor Fitzgerald, World Trade Center.',\n",
       " 'Shabbir Ahmed',\n",
       " '47',\n",
       " 'Brooklyn, N.Y., Windows on the World, World Trade Center.',\n",
       " 'Terrance Andre Aiken',\n",
       " '30',\n",
       " 'Marsh&McLennan consultant, World Trade Center.',\n",
       " 'Godwin O. Ajala']"
      ]
     },
     "execution_count": 16,
     "metadata": {},
     "output_type": "execute_result"
    }
   ],
   "source": [
    "keep_line = lambda l: not needs_removal(l)\n",
    "culled_lines = [l for l in lines if keep_line(l)]\n",
    "culled_lines[:100]"
   ]
  },
  {
   "cell_type": "markdown",
   "metadata": {},
   "source": [
    "## Which reads better?"
   ]
  },
  {
   "cell_type": "code",
   "execution_count": 17,
   "metadata": {},
   "outputs": [],
   "source": [
    "culled_lines = [l for l in lines if not needs_removal(l)]\n",
    "culled_lines = [l for l in lines if keep_line(l)]\n",
    "# 2nd line reads better because it is a positive case"
   ]
  },
  {
   "cell_type": "markdown",
   "metadata": {},
   "source": [
    "#### Make it a function!"
   ]
  },
  {
   "cell_type": "code",
   "execution_count": 18,
   "metadata": {},
   "outputs": [],
   "source": [
    "culled_lines = [l for l in lines if keep_line(l)]"
   ]
  },
  {
   "cell_type": "code",
   "execution_count": 19,
   "metadata": {},
   "outputs": [
    {
     "data": {
      "text/plain": [
       "['Gordon M. Aamoth, Jr.',\n",
       " '32',\n",
       " \"Sandler O'Neill + Partners, World Trade Center.\",\n",
       " 'Edelmiro Abad',\n",
       " '54']"
      ]
     },
     "execution_count": 19,
     "metadata": {},
     "output_type": "execute_result"
    }
   ],
   "source": [
    "from composable import pipeable\n",
    "# Key\n",
    "cull_lines = pipeable(lambda L: [l for l in L if keep_line(l)])\n",
    "culled_lines = cull_lines(lines)\n",
    "culled_lines[:5]"
   ]
  },
  {
   "cell_type": "markdown",
   "metadata": {},
   "source": [
    "# Clean Code Rule\n",
    "\n",
    "### *When writing Boolean expressions, avoid negatives whenever possible.*"
   ]
  },
  {
   "cell_type": "markdown",
   "metadata": {},
   "source": [
    "<h2> <font color=\"red\"> Exercise 4.4.5 -- Saving our work </font> </h2>\n",
    "\n",
    "Now we will save our work by writing our progress to a text file.\n",
    "\n",
    "Complete the following steps."
   ]
  },
  {
   "cell_type": "markdown",
   "metadata": {},
   "source": [
    "#### Step 1 -- `'\\n'` join the `culled_lines`"
   ]
  },
  {
   "cell_type": "code",
   "execution_count": 23,
   "metadata": {},
   "outputs": [
    {
     "data": {
      "text/plain": [
       "\"Gordon M. Aamoth, Jr.\\n32\\nSandler O'Neill + Partners, World Trade Center.\\nEdelmiro Abad\\n54\\nBrooklyn, N.Y., Fiduciary Trust Company International, World Trade Center.\\nMarie Rose Abad\\n49\\nKeefe, Bruyette&Woods, Inc., World Trade Center.\\nAndrew Anthony Abate\\n37\\nMelville, N.Y., Cantor Fitzgerald, World Trade Center.\\nVincent Paul Abate\\n40\\nBrooklyn, N.Y., Cantor Fitzgerald, World Trade Center.\\nLaurence Christopher Abel\\n37\\nNew York City, Cantor Fitzgerald, World Trade Center.\\nAlona Abraham\\n30\\nAshdod, Isr\""
      ]
     },
     "execution_count": 23,
     "metadata": {},
     "output_type": "execute_result"
    }
   ],
   "source": [
    "# Your code here\n",
    "output = '\\n'.join(culled_lines)\n",
    "output[:500]"
   ]
  },
  {
   "cell_type": "markdown",
   "metadata": {},
   "source": [
    "#### Step 2 -- Write the string to a file called `911_deaths_extra_removed.csv`"
   ]
  },
  {
   "cell_type": "code",
   "execution_count": 76,
   "metadata": {},
   "outputs": [
    {
     "name": "stdout",
     "output_type": "stream",
     "text": [
      "Gordon M. Aamoth, Jr.\r\n",
      "32\r\n",
      "Sandler O'Neill + Partners, World Trade Center.\r\n",
      "Edelmiro Abad\r\n",
      "54\r\n",
      "Brooklyn, N.Y., Fiduciary Trust Company International, World Trade Center.\r\n",
      "Marie Rose Abad\r\n",
      "49\r\n",
      "Keefe, Bruyette&Woods, Inc., World Trade Center.\r\n",
      "Andrew Anthony Abate\r\n",
      "cat: stdout: Broken pipe\r\n"
     ]
    }
   ],
   "source": [
    "# Your code here\n",
    "with open('911_deaths_extra_removed.csv', 'w') as out_file:\n",
    "    out_file.write(output)\n",
    "!cat 911_deaths_extra_removed.csv | head -n 10"
   ]
  },
  {
   "cell_type": "code",
   "execution_count": null,
   "metadata": {},
   "outputs": [],
   "source": []
  }
 ],
 "metadata": {
  "kernelspec": {
   "display_name": "Python 3",
   "language": "python",
   "name": "python3"
  },
  "language_info": {
   "codemirror_mode": {
    "name": "ipython",
    "version": 3
   },
   "file_extension": ".py",
   "mimetype": "text/x-python",
   "name": "python",
   "nbconvert_exporter": "python",
   "pygments_lexer": "ipython3",
   "version": "3.7.6"
  }
 },
 "nbformat": 4,
 "nbformat_minor": 2
}
